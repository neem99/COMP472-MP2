{
 "cells": [
  {
   "cell_type": "code",
   "execution_count": 89,
   "metadata": {},
   "outputs": [],
   "source": [
    "from tkinter import * \n",
    "from tkinter.ttk import *\n",
    "import numpy as np"
   ]
  },
  {
   "cell_type": "code",
   "execution_count": 47,
   "metadata": {},
   "outputs": [
    {
     "name": "stdout",
     "output_type": "stream",
     "text": [
      "['BBIJ....IJCC..IAAMGDDK.MGH.KL.GHFFL. ', '..I...BBI.K.GHAAKLGHDDKLG..JEEFF.J.. ', 'JBBCCCJDD..MJAAL.MFFKL.N..KGGN.HH... ', 'BBB..MCCDD.MAAKL.MJ.KLEEJ.GG..JHHHII J0 B4', 'IJBBCCIJDDL.IJAAL.EEK.L...KFF..GGHH. F0 G6', 'BB.G.HE..G.HEAAG.I..FCCIDDF..I..F... ', '']\n"
     ]
    }
   ],
   "source": [
    "puzzles=[]\n",
    "with open(\"sample-input.txt\", \"r\") as f:\n",
    "    for line in f:\n",
    "        if(line.startswith('#') or line.__contains__('\\\\n')) :\n",
    "            continue \n",
    "        puzzles.append(line.replace(\"\\n\", \"\"))\n",
    "        \n",
    "updated_puzzles = []\n",
    "for i in range(0,len(puzzles)) : \n",
    "    if i%2 != 0 : \n",
    "        updated_puzzles.append(puzzles[i])\n",
    "print(updated_puzzles)\n"
   ]
  },
  {
   "cell_type": "code",
   "execution_count": 113,
   "metadata": {},
   "outputs": [
    {
     "name": "stdout",
     "output_type": "stream",
     "text": [
      "[['B' 'B' 'I' 'J' '.' '.']\n",
      " ['.' '.' 'I' 'J' 'C' 'C']\n",
      " ['.' '.' 'I' 'A' 'A' 'M']\n",
      " ['G' 'D' 'D' 'K' '.' 'M']\n",
      " ['G' 'H' '.' 'K' 'L' '.']\n",
      " ['G' 'H' 'F' 'F' 'L' '.']]\n",
      "M\n"
     ]
    }
   ],
   "source": [
    "puzzle1=[]\n",
    "for i in updated_puzzles[0].strip() : \n",
    "    puzzle1.append(i)\n",
    "matrix1 = np.array(puzzle1).reshape(6,6)\n",
    "print(matrix1)\n",
    "\n"
   ]
  },
  {
   "cell_type": "markdown",
   "metadata": {},
   "source": [
    "Display Method for 6x6 grid"
   ]
  },
  {
   "cell_type": "code",
   "execution_count": 87,
   "metadata": {},
   "outputs": [],
   "source": [
    "def display_grid(puzzle) : \n",
    "   puzzle1=[]\n",
    "for i in updated_puzzles[0].strip() : \n",
    "    puzzle1.append(i)\n",
    "matrix1 = np.array(puzzle1).reshape(6,6)\n",
    "print(matrix1)"
   ]
  },
  {
   "cell_type": "markdown",
   "metadata": {},
   "source": [
    "Puzzle 1"
   ]
  },
  {
   "cell_type": "code",
   "execution_count": 114,
   "metadata": {},
   "outputs": [
    {
     "name": "stdout",
     "output_type": "stream",
     "text": [
      "B B B B B B\n",
      "B B B B B B\n",
      "I I I I I I\n",
      "J J J J J J\n",
      ". . . . . .\n",
      ". . . . . .\n"
     ]
    }
   ],
   "source": [
    "\n",
    "puzzle1=updated_puzzles[0]\n",
    "display_grid(puzzle1)\n"
   ]
  },
  {
   "cell_type": "code",
   "execution_count": null,
   "metadata": {},
   "outputs": [],
   "source": []
  }
 ],
 "metadata": {
  "kernelspec": {
   "display_name": "Python 3.9.13 64-bit (microsoft store)",
   "language": "python",
   "name": "python3"
  },
  "language_info": {
   "codemirror_mode": {
    "name": "ipython",
    "version": 3
   },
   "file_extension": ".py",
   "mimetype": "text/x-python",
   "name": "python",
   "nbconvert_exporter": "python",
   "pygments_lexer": "ipython3",
   "version": "3.9.13"
  },
  "orig_nbformat": 4,
  "vscode": {
   "interpreter": {
    "hash": "9b56c511cc42927ba52f78d7f833cadd8392af34dcd4f052f4d8254942065ed4"
   }
  }
 },
 "nbformat": 4,
 "nbformat_minor": 2
}
