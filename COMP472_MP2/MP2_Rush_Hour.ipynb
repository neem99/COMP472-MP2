{
 "cells": [
  {
   "cell_type": "code",
   "execution_count": 4,
   "metadata": {},
   "outputs": [],
   "source": [
    "from tkinter import * \n",
    "from tkinter.ttk import *\n",
    "import numpy as np"
   ]
  },
  {
   "cell_type": "code",
   "execution_count": 5,
   "metadata": {},
   "outputs": [
    {
     "name": "stdout",
     "output_type": "stream",
     "text": [
      "['BBIJ....IJCC..IAAMGDDK.MGH.KL.GHFFL. ', '..I...BBI.K.GHAAKLGHDDKLG..JEEFF.J.. ', 'JBBCCCJDD..MJAAL.MFFKL.N..KGGN.HH... ', 'BBB..MCCDD.MAAKL.MJ.KLEEJ.GG..JHHHII J0 B4', 'IJBBCCIJDDL.IJAAL.EEK.L...KFF..GGHH. F0 G6', 'BB.G.HE..G.HEAAG.I..FCCIDDF..I..F... ', '']\n"
     ]
    }
   ],
   "source": [
    "puzzles=[]\n",
    "with open(\"sample-input.txt\", \"r\") as f:\n",
    "    for line in f:\n",
    "        if(line.startswith('#') or line.__contains__('\\\\n')) :\n",
    "            continue \n",
    "        puzzles.append(line.replace(\"\\n\", \"\"))\n",
    "        \n",
    "updated_puzzles = []\n",
    "for i in range(0,len(puzzles)) : \n",
    "    if i%2 != 0 : \n",
    "        updated_puzzles.append(puzzles[i])\n",
    "print(updated_puzzles)\n"
   ]
  },
  {
   "cell_type": "code",
   "execution_count": 6,
   "metadata": {},
   "outputs": [
    {
     "name": "stdout",
     "output_type": "stream",
     "text": [
      "[['B' 'B' 'I' 'J' '.' '.']\n",
      " ['.' '.' 'I' 'J' 'C' 'C']\n",
      " ['.' '.' 'I' 'A' 'A' 'M']\n",
      " ['G' 'D' 'D' 'K' '.' 'M']\n",
      " ['G' 'H' '.' 'K' 'L' '.']\n",
      " ['G' 'H' 'F' 'F' 'L' '.']]\n"
     ]
    }
   ],
   "source": [
    "puzzle1=[]\n",
    "for i in updated_puzzles[0].strip() : \n",
    "    puzzle1.append(i)\n",
    "matrix1 = np.array(puzzle1).reshape(6,6)\n",
    "print(matrix1)\n",
    "\n"
   ]
  },
  {
   "cell_type": "markdown",
   "metadata": {},
   "source": [
    "Display Method for 6x6 grid"
   ]
  },
  {
   "cell_type": "code",
   "execution_count": 7,
   "metadata": {},
   "outputs": [
    {
     "ename": "ValueError",
     "evalue": "cannot reshape array of size 72 into shape (6,6)",
     "output_type": "error",
     "traceback": [
      "\u001b[1;31m---------------------------------------------------------------------------\u001b[0m",
      "\u001b[1;31mValueError\u001b[0m                                Traceback (most recent call last)",
      "Cell \u001b[1;32mIn [7], line 5\u001b[0m\n\u001b[0;32m      3\u001b[0m \u001b[39mfor\u001b[39;00m i \u001b[39min\u001b[39;00m updated_puzzles[\u001b[39m0\u001b[39m]\u001b[39m.\u001b[39mstrip() : \n\u001b[0;32m      4\u001b[0m     puzzle1\u001b[39m.\u001b[39mappend(i)\n\u001b[1;32m----> 5\u001b[0m matrix1 \u001b[39m=\u001b[39m np\u001b[39m.\u001b[39;49marray(puzzle1)\u001b[39m.\u001b[39;49mreshape(\u001b[39m6\u001b[39;49m,\u001b[39m6\u001b[39;49m)\n\u001b[0;32m      6\u001b[0m \u001b[39mprint\u001b[39m(matrix1)\n",
      "\u001b[1;31mValueError\u001b[0m: cannot reshape array of size 72 into shape (6,6)"
     ]
    }
   ],
   "source": [
    "def display_grid(puzzle) : \n",
    "   puzzle1=[]\n",
    "for i in updated_puzzles[0].strip() : \n",
    "    puzzle1.append(i)\n",
    "matrix1 = np.array(puzzle1).reshape(6,6)\n",
    "print(matrix1)"
   ]
  },
  {
   "cell_type": "markdown",
   "metadata": {},
   "source": [
    "Puzzle 1"
   ]
  },
  {
   "cell_type": "code",
   "execution_count": 20,
   "metadata": {},
   "outputs": [
    {
     "name": "stdout",
     "output_type": "stream",
     "text": [
      "J\n",
      "BBIJ....IJCC..IAAMGDDK.MGH.KL.GHFFL. \n"
     ]
    }
   ],
   "source": [
    "\n",
    "puzzle1=updated_puzzles[0]\n",
    "display_grid(puzzle1)\n",
    "\n",
    "array1 = np.array(puzzle1)\n",
    "print(puzzle1[3])\n",
    "print(puzzle1)\n"
   ]
  },
  {
   "cell_type": "code",
   "execution_count": 48,
   "metadata": {},
   "outputs": [
    {
     "name": "stdout",
     "output_type": "stream",
     "text": [
      "[['B' 'B' 'i' 'j' '.' '.']\n",
      " ['.' '.' 'i' 'j' 'C' 'C']\n",
      " ['.' '.' 'i' 'A' 'A' 'm']\n",
      " ['g' 'D' 'D' 'k' '.' 'm']\n",
      " ['g' 'h' '.' 'k' 'l' '.']\n",
      " ['g' 'h' 'F' 'F' 'l' '.']]\n"
     ]
    }
   ],
   "source": [
    "def carOrientation(theMatrix:list[str]):\n",
    "\n",
    "    temp = []\n",
    "    newMatrix = []\n",
    "\n",
    "    for i in range(len(theMatrix)):\n",
    "        if i < len(theMatrix) - 1 and theMatrix[i] == theMatrix[i+1]:\n",
    "            temp.append(theMatrix[i])\n",
    "        if theMatrix[i] in temp:\n",
    "            newMatrix.append(theMatrix[i])\n",
    "        else:\n",
    "            newMatrix.append(theMatrix[i].lower())\n",
    "    return newMatrix\n",
    "\n",
    "             \n",
    "# print(carOrientation(puzzle1))\n",
    "\n",
    "puzzle1=[]\n",
    "for i in carOrientation(updated_puzzles[0].strip()) : \n",
    "    puzzle1.append(i)\n",
    "matrix1 = np.array(puzzle1).reshape(6,6)\n",
    "print(matrix1)\n"
   ]
  },
  {
   "cell_type": "code",
   "execution_count": null,
   "metadata": {},
   "outputs": [],
   "source": [
    "EMPTY_SPACE = '.'\n",
    "N = 6\n",
    "\n",
    "def nextBoardStates(board):\n",
    "    doneChars = set([EMPTY_SPACE])\n",
    "    nextStates = []\n",
    "\n",
    "    for i in range(N):\n",
    "        for j in range(N):\n",
    "            char = board[i][j]\n",
    "            if char not in doneChars:\n",
    "                doneChars.add(char)\n",
    "                "
   ]
  }
 ],
 "metadata": {
  "kernelspec": {
   "display_name": "Python 3.10.7 64-bit",
   "language": "python",
   "name": "python3"
  },
  "language_info": {
   "codemirror_mode": {
    "name": "ipython",
    "version": 3
   },
   "file_extension": ".py",
   "mimetype": "text/x-python",
   "name": "python",
   "nbconvert_exporter": "python",
   "pygments_lexer": "ipython3",
   "version": "3.10.7"
  },
  "orig_nbformat": 4,
  "vscode": {
   "interpreter": {
    "hash": "bb7958bde1d9b77eeab6e9977219b271fe7edf2f49f579cebc5c8d18d222e5fa"
   }
  }
 },
 "nbformat": 4,
 "nbformat_minor": 2
}
