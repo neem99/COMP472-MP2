{
 "cells": [
  {
   "cell_type": "code",
   "execution_count": 278,
   "metadata": {},
   "outputs": [],
   "source": [
    "from tkinter import * \n",
    "from tkinter.ttk import *\n",
    "import numpy as np"
   ]
  },
  {
   "cell_type": "code",
   "execution_count": 279,
   "metadata": {},
   "outputs": [
    {
     "name": "stdout",
     "output_type": "stream",
     "text": [
      "['BBIJ....IJCC..IAAMGDDK.MGH.KL.GHFFL. ', '..I...BBI.K.GHAAKLGHDDKLG..JEEFF.J.. ', 'JBBCCCJDD..MJAAL.MFFKL.N..KGGN.HH... ', 'BBB..MCCDD.MAAKL.MJ.KLEEJ.GG..JHHHII J0 B4', 'IJBBCCIJDDL.IJAAL.EEK.L...KFF..GGHH. F0 G6', 'BB.G.HE..G.HEAAG.I..FCCIDDF..I..F... ', '']\n"
     ]
    }
   ],
   "source": [
    "puzzles=[]\n",
    "with open(\"sample-input.txt\", \"r\") as f:\n",
    "    for line in f:\n",
    "        if(line.startswith('#') or line.__contains__('\\\\n')) :\n",
    "            continue \n",
    "        puzzles.append(line.replace(\"\\n\", \"\"))\n",
    "        \n",
    "updated_puzzles = []\n",
    "for i in range(0,len(puzzles)) : \n",
    "    if i%2 != 0 : \n",
    "        updated_puzzles.append(puzzles[i])\n",
    "print(updated_puzzles)\n"
   ]
  },
  {
   "cell_type": "markdown",
   "metadata": {},
   "source": [
    "Puzzle 1"
   ]
  },
  {
   "cell_type": "code",
   "execution_count": 280,
   "metadata": {},
   "outputs": [
    {
     "name": "stdout",
     "output_type": "stream",
     "text": [
      "[['B' 'B' 'I' 'J' '.' '.']\n",
      " ['.' '.' 'I' 'J' 'C' 'C']\n",
      " ['.' '.' 'I' 'A' 'A' 'M']\n",
      " ['G' 'D' 'D' 'K' '.' 'M']\n",
      " ['G' 'H' '.' 'K' 'L' '.']\n",
      " ['G' 'H' 'F' 'F' 'L' '.']]\n"
     ]
    }
   ],
   "source": [
    "puzzle1=[]\n",
    "for i in updated_puzzles[0].strip() : \n",
    "    puzzle1.append(i)\n",
    "matrix1 = np.array(puzzle1).reshape(6,6)\n",
    "print(matrix1)\n"
   ]
  },
  {
   "cell_type": "markdown",
   "metadata": {},
   "source": [
    "Puzzle 2"
   ]
  },
  {
   "cell_type": "code",
   "execution_count": 281,
   "metadata": {},
   "outputs": [
    {
     "name": "stdout",
     "output_type": "stream",
     "text": [
      "[['.' '.' 'I' '.' '.' '.']\n",
      " ['B' 'B' 'I' '.' 'K' '.']\n",
      " ['G' 'H' 'A' 'A' 'K' 'L']\n",
      " ['G' 'H' 'D' 'D' 'K' 'L']\n",
      " ['G' '.' '.' 'J' 'E' 'E']\n",
      " ['F' 'F' '.' 'J' '.' '.']]\n"
     ]
    }
   ],
   "source": [
    "puzzle2=[]\n",
    "for i in updated_puzzles[1].strip() : \n",
    "    puzzle2.append(i)\n",
    "matrix2 = np.array(puzzle2).reshape(6,6)\n",
    "print(matrix2)\n",
    "\n",
    "#print(updated_puzzles)\n",
    "\n"
   ]
  },
  {
   "cell_type": "markdown",
   "metadata": {},
   "source": [
    "Puzzle 3"
   ]
  },
  {
   "cell_type": "code",
   "execution_count": 282,
   "metadata": {},
   "outputs": [
    {
     "name": "stdout",
     "output_type": "stream",
     "text": [
      "[['J' 'B' 'B' 'C' 'C' 'C']\n",
      " ['J' 'D' 'D' '.' '.' 'M']\n",
      " ['J' 'A' 'A' 'L' '.' 'M']\n",
      " ['F' 'F' 'K' 'L' '.' 'N']\n",
      " ['.' '.' 'K' 'G' 'G' 'N']\n",
      " ['.' 'H' 'H' '.' '.' '.']]\n"
     ]
    }
   ],
   "source": [
    "puzzle3=[]\n",
    "for i in updated_puzzles[2].strip() : \n",
    "    puzzle3.append(i)\n",
    "matrix3 = np.array(puzzle3).reshape(6,6)\n",
    "print(matrix3)"
   ]
  },
  {
   "cell_type": "markdown",
   "metadata": {},
   "source": [
    "Puzzle 4"
   ]
  },
  {
   "cell_type": "code",
   "execution_count": 283,
   "metadata": {},
   "outputs": [
    {
     "name": "stdout",
     "output_type": "stream",
     "text": [
      "[['B' 'B' 'B' '.' '.' 'M']\n",
      " ['C' 'C' 'D' 'D' '.' 'M']\n",
      " ['A' 'A' 'K' 'L' '.' 'M']\n",
      " ['J' '.' 'K' 'L' 'E' 'E']\n",
      " ['J' '.' 'G' 'G' '.' '.']\n",
      " ['J' 'H' 'H' 'H' 'I' 'I']]\n"
     ]
    }
   ],
   "source": [
    "puzzle4=[]\n",
    "currentPuzzle4 = updated_puzzles[3].strip().split(' ')\n",
    "for i in currentPuzzle4[0]: \n",
    "    puzzle4.append(i)\n",
    "matrix4 = np.array(puzzle4).reshape(6,6)\n",
    "print(matrix4)"
   ]
  },
  {
   "cell_type": "markdown",
   "metadata": {},
   "source": [
    "Puzzle 5"
   ]
  },
  {
   "cell_type": "code",
   "execution_count": 284,
   "metadata": {},
   "outputs": [
    {
     "name": "stdout",
     "output_type": "stream",
     "text": [
      "[['I' 'J' 'B' 'B' 'C' 'C']\n",
      " ['I' 'J' 'D' 'D' 'L' '.']\n",
      " ['I' 'J' 'A' 'A' 'L' '.']\n",
      " ['E' 'E' 'K' '.' 'L' '.']\n",
      " ['.' '.' 'K' 'F' 'F' '.']\n",
      " ['.' 'G' 'G' 'H' 'H' '.']]\n",
      "F0\n"
     ]
    }
   ],
   "source": [
    "puzzle5=[]\n",
    "currentPuzzle5 = updated_puzzles[4].strip().split(' ')\n",
    "for i in currentPuzzle5[0]: \n",
    "    puzzle5.append(i)\n",
    "matrix5 = np.array(puzzle5).reshape(6,6)\n",
    "print(matrix5)\n",
    "print(currentPuzzle5[1])"
   ]
  },
  {
   "cell_type": "markdown",
   "metadata": {},
   "source": [
    "Puzzle 6"
   ]
  },
  {
   "cell_type": "code",
   "execution_count": 285,
   "metadata": {},
   "outputs": [
    {
     "name": "stdout",
     "output_type": "stream",
     "text": [
      "[['B' 'B' '.' 'G' '.' 'H']\n",
      " ['E' '.' '.' 'G' '.' 'H']\n",
      " ['E' 'A' 'A' 'G' '.' 'I']\n",
      " ['.' '.' 'F' 'C' 'C' 'I']\n",
      " ['D' 'D' 'F' '.' '.' 'I']\n",
      " ['.' '.' 'F' '.' '.' '.']]\n"
     ]
    }
   ],
   "source": [
    "puzzle6=[]\n",
    "for i in updated_puzzles[5].strip() : \n",
    "    puzzle6.append(i)\n",
    "matrix6 = np.array(puzzle6).reshape(6,6)\n",
    "print(matrix6)"
   ]
  },
  {
   "cell_type": "code",
   "execution_count": 286,
   "metadata": {},
   "outputs": [
    {
     "name": "stdout",
     "output_type": "stream",
     "text": [
      "{'F': '0', 'G': '6'}\n"
     ]
    }
   ],
   "source": [
    "def readFuel(currentPuzzle):\n",
    "\n",
    "    carDictionary = {}\n",
    "\n",
    "    for i in range(1, len(currentPuzzle)):   \n",
    "        carLetter = currentPuzzle[i][0]\n",
    "        fuelAmount = currentPuzzle[i][1]\n",
    "        carDictionary[carLetter] = fuelAmount\n",
    "\n",
    "    return carDictionary\n",
    "\n",
    "print(readFuel(currentPuzzle5))\n"
   ]
  },
  {
   "cell_type": "code",
   "execution_count": 287,
   "metadata": {},
   "outputs": [
    {
     "name": "stdout",
     "output_type": "stream",
     "text": [
      "[['B' 'B' 'i' 'j' '.' '.']\n",
      " ['.' '.' 'i' 'j' 'C' 'C']\n",
      " ['.' '.' 'i' 'A' 'A' 'm']\n",
      " ['g' 'D' 'D' 'k' '.' 'm']\n",
      " ['g' 'h' '.' 'k' 'l' '.']\n",
      " ['g' 'h' 'F' 'F' 'l' '.']]\n",
      "[['.' '.' 'i' '.' '.' '.']\n",
      " ['B' 'B' 'i' '.' 'k' '.']\n",
      " ['g' 'h' 'A' 'A' 'k' 'l']\n",
      " ['g' 'h' 'D' 'D' 'k' 'l']\n",
      " ['g' '.' '.' 'j' 'E' 'E']\n",
      " ['F' 'F' '.' 'j' '.' '.']]\n"
     ]
    }
   ],
   "source": [
    "def carOrientation(theMatrix:list[str]):\n",
    "\n",
    "    temp = []\n",
    "    newMatrix = []\n",
    "\n",
    "    for i in range(len(theMatrix)):\n",
    "        if i < len(theMatrix) - 1 and theMatrix[i] == theMatrix[i+1]:\n",
    "            temp.append(theMatrix[i])\n",
    "        if theMatrix[i] in temp:\n",
    "            newMatrix.append(theMatrix[i])\n",
    "        else:\n",
    "            newMatrix.append(theMatrix[i].lower())\n",
    "    return newMatrix\n",
    "\n",
    "             \n",
    "# print(carOrientation(puzzle1))\n",
    "\n",
    "puzzle1=[]\n",
    "for i in carOrientation(updated_puzzles[0].strip()) : \n",
    "    puzzle1.append(i)\n",
    "matrix1 = np.array(puzzle1).reshape(6,6)\n",
    "print(matrix1)\n",
    "\n",
    "# print(matrix1[3][3])\n",
    "\n",
    "# X=6\n",
    "# for i in range(6):\n",
    "#     print(i)\n",
    "\n",
    "# print(matrix1[2][5])\n",
    "puzzle2=[]\n",
    "for i in carOrientation(updated_puzzles[1].strip()) : \n",
    "    puzzle2.append(i)\n",
    "matrix2 = np.array(puzzle2).reshape(6,6)\n",
    "print(matrix2)"
   ]
  },
  {
   "cell_type": "code",
   "execution_count": 288,
   "metadata": {},
   "outputs": [
    {
     "name": "stdout",
     "output_type": "stream",
     "text": [
      "[['B' 'B' 'i' 'j' '.' '.']\n",
      " ['.' '.' 'i' 'j' 'C' 'C']\n",
      " ['.' '.' 'i' 'A' 'A' 'm']\n",
      " ['g' 'D' 'D' 'k' '.' 'm']\n",
      " ['g' 'h' '.' 'k' 'l' '.']\n",
      " ['g' 'h' 'F' 'F' 'l' '.']]\n"
     ]
    }
   ],
   "source": [
    "def copyBoard(board):\n",
    "  return np.array([i[:] for i in board])\n",
    "\n",
    "print(matrix1)\n",
    "# matrix2 = copyBoard(matrix1)\n",
    "# print(matrix2)\n",
    "# print(matrix2[2][5])\n",
    "# print(type(matrix1))\n",
    "# print(type(matrix2))\n",
    "\n",
    "# string = 'HELLO'\n",
    "# print(string.isupper())\n",
    "# N = 6\n",
    "# print(range(N))"
   ]
  },
  {
   "cell_type": "markdown",
   "metadata": {},
   "source": [
    "UNIFORM COST SEARCH (UCS)"
   ]
  },
  {
   "cell_type": "code",
   "execution_count": 289,
   "metadata": {},
   "outputs": [],
   "source": [
    "#reference: plainenglish.io\n",
    "\n",
    "from cmath import inf\n",
    "\n",
    "\n",
    "class Node:\n",
    "    # value: np.array([]) #maybe easier as str\n",
    "    # heuristicValue: int #distance from the start node to current node\n",
    "    neighbors: list #nextBoardStates(Node)?\n",
    "\n",
    "    #checks if has possible moves\n",
    "    # def hasNeighbors(self):\n",
    "    #     if nextBoardStates(self):\n",
    "    #         return True\n",
    "    #     else:\n",
    "    #         return False\n",
    "    \n",
    "    # #return number of possible moves\n",
    "    # def quantNeighbor(self):\n",
    "    #     numberOfNeighbors = len(nextBoardStates(self))\n",
    "    #     return numberOfNeighbors\n",
    "\n",
    "    #functions for 1) adding neighbor 2) return list of all nodes current node is connected with\n",
    "    # 3) determine if two nodes are equal 4) print node data\n",
    "\n",
    "    #constructor\n",
    "    def __init__(self, value, previousState = None, neighbors = None):\n",
    "        self.value = value\n",
    "        self.heuristicValue = 1\n",
    "        if neighbors is None:\n",
    "            self.neighbors = []\n",
    "        else:\n",
    "            self.neighbors = neighbors\n",
    "        self.parent : Node = previousState\n",
    "    \n",
    "    #current node or other node has greater heuristic value\n",
    "    def __gt__(self, other):\n",
    "        if isinstance(other, Node):\n",
    "            if self.heuristicValue > other.heuristicValue:\n",
    "                return True\n",
    "            if self.heuristicValue < other.heuristicValue:\n",
    "                return False\n",
    "            return self.value > other.value\n",
    "\n",
    "    def __str__(self):\n",
    "        return (f\"{self.value}\\nheuristic value: {self.heuristicValue}\\n\")\n",
    "    \n",
    "    def __repr__(self):\n",
    "        return (f\"{self.value}\\nheuristic value: {self.heuristicValue}\\n\")\n",
    "\n",
    "    def __eq__(self, other):\n",
    "        if not isinstance(other, Node):\n",
    "            return NotImplemented\n",
    "        \n",
    "        return (self.value == other.value).all()\n",
    "    \n",
    "    def __ne__(self, other):\n",
    "        if not isinstance(other, Node):\n",
    "            return NotImplemented\n",
    "        \n",
    "        return self.heuristicValue != other.heuristicValue or self.value != other.value\n",
    "    \n",
    "    def __hash__(self):\n",
    "        return hash((self.heuristicValue, self.value))"
   ]
  },
  {
   "cell_type": "code",
   "execution_count": 290,
   "metadata": {},
   "outputs": [
    {
     "name": "stdout",
     "output_type": "stream",
     "text": [
      "[['B' 'B' 'i' 'j' '.' '.']\n",
      " ['.' '.' 'i' 'j' 'C' 'C']\n",
      " ['.' '.' 'i' 'A' 'A' 'm']\n",
      " ['g' 'D' 'D' 'k' '.' 'm']\n",
      " ['g' 'h' '.' 'k' 'l' '.']\n",
      " ['g' 'h' 'F' 'F' 'l' '.']]\n"
     ]
    }
   ],
   "source": [
    "#reference: Medium article (add to report references)\n",
    "\n",
    "#empty space symbol\n",
    "emptySpace = '.'\n",
    "\n",
    "\n",
    "#add fuel functionality: if fuelAmount from readFuel == 0, add carLetter to finishedChars\n",
    "\n",
    "def nextBoardStates(currentNode : Node):\n",
    "\n",
    "    #starts with '.' in the list to auto ignore all '.'\n",
    "    finishedChars = [emptySpace]\n",
    "    futureStates : list[Node]= []\n",
    "    board = currentNode.value\n",
    "\n",
    "    for i in range(0, 6):\n",
    "        for j in range(0, 6):\n",
    "            char = board[i][j]\n",
    "\n",
    "            #skips letters passed already\n",
    "            if char not in finishedChars:\n",
    "                finishedChars.append(char)\n",
    "\n",
    "                #important variables to manipulate around the position of the car based on if its horizontal or vertical\n",
    "                changei = 0\n",
    "                changej = 0\n",
    "                \n",
    "                #horizontal cars are capital letters, verticle cars are lowercase\n",
    "                #if changei = 1 car is vertical, we look above and below, if changej = 1 car is horizontal we look to the left and right\n",
    "                if not char.isupper():\n",
    "                    changei = 1\n",
    "                if char.isupper():\n",
    "                    changej = 1\n",
    "\n",
    "                #variables for beginning and end of car\n",
    "                starti, endi = i, i\n",
    "                startj, endj = j, j\n",
    "\n",
    "                #check spaces around car to figure out 1) exact position of car and 2) empty spaces around car\n",
    "                #conditions: 1 & 2) left or above are in range of index 3) above or left is same character (part of car)\n",
    "                #if conditions are met, extend the 'end' of the car\n",
    "                while starti - changei >= 0 and startj - changej >= 0 and board[starti - changei][startj - changej] == char:\n",
    "                    starti -= changei\n",
    "                    startj -= changej\n",
    "\n",
    "                #conditions: 1 & 2) right or below are in range of index 3) below or right is same character (part of car)\n",
    "                #if conditions are met, extend the 'end' of the car\n",
    "                while endi + changei <= 5 and endj + changej <= 5 and board[endi + changei][endj + changej] == char:\n",
    "                    endi += changei\n",
    "                    endj += changej\n",
    "\n",
    "                #conditions: 1 & 2) left or above are in range of index 3) if left or above are empty, update as possible move\n",
    "                if starti - changei >= 0 and startj - changej >=0 and board[starti - changei][startj - changej] == emptySpace:\n",
    "                    \n",
    "                    #move head of car to empty space, change old head of car to empty, append this board state to a list holding\n",
    "                    #all possible board state moves\n",
    "                    nextState = copyBoard(board)\n",
    "                    nextState[starti - changei][startj - changej] = char\n",
    "                    nextState[endi][endj] = emptySpace\n",
    "                    futureStates.append(Node(nextState, currentNode))\n",
    "\n",
    "                #conditions: 1 & 2) right or below are in range of index 3) if right or below are empty, update as possible move\n",
    "                if endi + changei <= 5 and endj + changej <= 5 and board[endi + changei][endj + changej] == emptySpace:\n",
    "                    nextState2 = copyBoard(board)\n",
    "                    nextState2[starti][startj] = emptySpace\n",
    "                    nextState2[endi + changei][endj + changej] = char\n",
    "                    futureStates.append(Node(nextState2, currentNode))\n",
    "                \n",
    "    return futureStates\n",
    "\n",
    "\n",
    "print(matrix1)\n",
    "# print(nextBoardStates(matrix1))\n",
    "# print(type(nextBoardStates(matrix1)[0]))\n",
    "\n",
    "#todo: add fuel functionality. cars with no fuel: maybe make a separate function that just immediately adds that car to doneChars\n",
    "#cars with limited fuel: maybe make a variable that tracks how many moves car made, when it makes max moves add it to doneChars\n"
   ]
  },
  {
   "cell_type": "markdown",
   "metadata": {},
   "source": [
    "UNIFORM COST SEARCH (UCS)"
   ]
  },
  {
   "cell_type": "code",
   "execution_count": 291,
   "metadata": {},
   "outputs": [],
   "source": [
    "#reference: plainenglish.io\n",
    "\n",
    "from cmath import inf\n",
    "\n",
    "\n",
    "class UCS:\n",
    "    searchSpace : list #search space\n",
    "    boardInput : Node #boardInput point\n",
    "    soltuion : Node #solution\n",
    "    opened : list[Node] #list of available nodes\n",
    "    visited : list[Node] #list of visited nodes\n",
    "    numberOfChecks : int #track number of steps of algorithm\n",
    "\n",
    "    #functions 1) insert to node to list 2) remove node from opened 3) check if opened is empty or not\n",
    "    # 4) return node from opened list in case duplicate 5) calculate path from boardInput to target 6) search!!!!\n",
    "\n",
    "    def __init__(self, boardInput):\n",
    "        self.boardInput = Node(boardInput) #puzzle1?\n",
    "        self.opened = []\n",
    "        self.visited = []\n",
    "        self.numberOfChecks = 0\n",
    "\n",
    "    def insertOpened(self, node):\n",
    "        self.opened.append(node)\n",
    "    \n",
    "    def insertVisited(self, node):\n",
    "        self.visited.append(node)\n",
    "        self.opened.remove(node)\n",
    "\n",
    "    def openedEmpty(self):\n",
    "        if len(self.opened) == 0:\n",
    "            return True\n",
    "        else:\n",
    "            return False\n",
    "\n",
    "\n",
    "    def getChildren(self, node):\n",
    "        return nextBoardStates(node)\n",
    "\n",
    "    \n",
    "    #i need to reverse the list\n",
    "    def calculatePath(self, solutionNode : Node):\n",
    "        solutionPath = []\n",
    "        currentNode = solutionNode\n",
    "        while True:\n",
    "            solutionPath.append(currentNode)\n",
    "            if currentNode.parent == None:\n",
    "                break\n",
    "            currentNode = currentNode.parent\n",
    "        return solutionPath\n",
    "\n",
    "    def getPreviousNode(self, node : Node):\n",
    "        return node.parent\n",
    "\n",
    "    def getDistance(self, node : Node):\n",
    "        return len(self.calculatePath(node))\n",
    "         \n",
    "    def removeSmallestFromOpened(self) -> Node:\n",
    "        #newList : list[Node] = list(filter(lambda n: n not in self.visited, self.opened))\n",
    "        # print(self.opened)\n",
    "        # print(\"----------------------------------------------------------\")\n",
    "        # print(self.visited)\n",
    "        # print(\"------------------------------------------------------------------\")\n",
    "        #print(newList)\n",
    "        temp = min(self.opened, key = lambda n: n.heuristicValue)\n",
    "        #print(\"=============================================================================\")\n",
    "        return temp\n",
    "\n",
    "    def doUCSSearch(self):\n",
    "        self.boardInput.heuristicValue = 0\n",
    "        self.opened.append(self.boardInput)\n",
    "\n",
    "        while True:\n",
    "            self.numberOfChecks += 1\n",
    "\n",
    "            if self.openedEmpty():\n",
    "                print(f\"No solution found after {self.numberOfChecks} checks\")\n",
    "                return [], 0\n",
    "            \n",
    "            currentNode = self.removeSmallestFromOpened()\n",
    "\n",
    "            #print(currentNode.value)\n",
    "            if currentNode.value[2][5] == 'A':\n",
    "                path = self.calculatePath(currentNode)\n",
    "                return path, len(path)\n",
    "\n",
    "            children = self.getChildren(currentNode)\n",
    "            self.insertVisited(currentNode)\n",
    "            \n",
    "            #newNode is one of the future states of the currentNode\n",
    "\n",
    "            if len(children) > 0:\n",
    "                for newNode in children:\n",
    "\n",
    "\n",
    "                    #print(newNode not in self.opened and newNode not in self.visited)\n",
    "                    if newNode not in self.opened and newNode not in self.visited:\n",
    "                        newNode.heuristicValue = self.getDistance(newNode)\n",
    "                        self.insertOpened(newNode)\n",
    "\n",
    "\n",
    "\n",
    "                        \n",
    "                    #newNode.heuristicValue = self.getDistance(currentNode, newNode)\n",
    "                    # if newNode in self.visited:\n",
    "                    #     continue\n",
    "                    # if newNode not in self.visited and newNode not in self.opened:\n",
    "                    #     self.insertOpened(newNode)\n",
    "                    # elif newNode in self.opened and newNode.parent != currentNode:\n",
    "                    #     previousNode = self.getPreviousNode(newNode)\n",
    "                    #     if newNode.heuristicValue < currentNode.heuristicValue:\n",
    "                    #         newNode.parent = previousNode\n",
    "                    #         self.insertOpened(currentNode)\n",
    "\n",
    "            #something wrong after the elif function or removesmallestfromopen causing it to infinite loop,\n",
    "            #need to figure out logic behind UCS before changing anything\n",
    "\n",
    "            #self.insertVisited(currentNode)\n"
   ]
  },
  {
   "cell_type": "code",
   "execution_count": 292,
   "metadata": {},
   "outputs": [
    {
     "name": "stdout",
     "output_type": "stream",
     "text": [
      "[['.' '.' 'i' 'j' '.' 'l']\n",
      " ['B' 'B' 'i' 'j' '.' 'l']\n",
      " ['g' '.' '.' '.' 'A' 'A']\n",
      " ['g' 'h' 'D' 'D' 'k' '.']\n",
      " ['g' 'h' 'E' 'E' 'k' '.']\n",
      " ['F' 'F' '.' '.' 'k' '.']]\n",
      "[['.' '.' 'i' 'j' '.' 'l']\n",
      " ['B' 'B' 'i' 'j' '.' 'l']\n",
      " ['g' '.' '.' 'A' 'A' '.']\n",
      " ['g' 'h' 'D' 'D' 'k' '.']\n",
      " ['g' 'h' 'E' 'E' 'k' '.']\n",
      " ['F' 'F' '.' '.' 'k' '.']]\n",
      "[['.' '.' 'i' 'j' '.' 'l']\n",
      " ['B' 'B' 'i' 'j' '.' 'l']\n",
      " ['g' '.' 'A' 'A' '.' '.']\n",
      " ['g' 'h' 'D' 'D' 'k' '.']\n",
      " ['g' 'h' 'E' 'E' 'k' '.']\n",
      " ['F' 'F' '.' '.' 'k' '.']]\n",
      "[['.' '.' 'i' 'j' '.' 'l']\n",
      " ['B' 'B' 'i' 'j' '.' 'l']\n",
      " ['g' '.' 'A' 'A' 'k' '.']\n",
      " ['g' 'h' 'D' 'D' 'k' '.']\n",
      " ['g' 'h' 'E' 'E' 'k' '.']\n",
      " ['F' 'F' '.' '.' '.' '.']]\n",
      "[['.' '.' 'i' 'j' '.' 'l']\n",
      " ['B' 'B' 'i' 'j' 'k' 'l']\n",
      " ['g' '.' 'A' 'A' 'k' '.']\n",
      " ['g' 'h' 'D' 'D' 'k' '.']\n",
      " ['g' 'h' 'E' 'E' '.' '.']\n",
      " ['F' 'F' '.' '.' '.' '.']]\n",
      "[['.' '.' 'i' 'j' '.' 'l']\n",
      " ['B' 'B' 'i' 'j' 'k' 'l']\n",
      " ['g' '.' 'A' 'A' 'k' '.']\n",
      " ['g' 'h' 'D' 'D' 'k' '.']\n",
      " ['g' 'h' '.' 'E' 'E' '.']\n",
      " ['F' 'F' '.' '.' '.' '.']]\n",
      "[['.' '.' 'i' 'j' '.' 'l']\n",
      " ['B' 'B' 'i' 'j' 'k' 'l']\n",
      " ['g' '.' 'A' 'A' 'k' '.']\n",
      " ['g' 'h' 'D' 'D' 'k' '.']\n",
      " ['g' 'h' '.' '.' 'E' 'E']\n",
      " ['F' 'F' '.' '.' '.' '.']]\n",
      "[['.' '.' 'i' 'j' 'k' 'l']\n",
      " ['B' 'B' 'i' 'j' 'k' 'l']\n",
      " ['g' '.' 'A' 'A' 'k' '.']\n",
      " ['g' 'h' 'D' 'D' '.' '.']\n",
      " ['g' 'h' '.' '.' 'E' 'E']\n",
      " ['F' 'F' '.' '.' '.' '.']]\n",
      "[['.' '.' 'i' 'j' 'k' 'l']\n",
      " ['B' 'B' 'i' 'j' 'k' 'l']\n",
      " ['g' '.' 'A' 'A' 'k' '.']\n",
      " ['g' 'h' '.' 'D' 'D' '.']\n",
      " ['g' 'h' '.' '.' 'E' 'E']\n",
      " ['F' 'F' '.' '.' '.' '.']]\n",
      "[['.' '.' 'i' 'j' 'k' 'l']\n",
      " ['B' 'B' 'i' 'j' 'k' 'l']\n",
      " ['g' '.' 'A' 'A' 'k' '.']\n",
      " ['g' 'h' '.' '.' 'D' 'D']\n",
      " ['g' 'h' '.' '.' 'E' 'E']\n",
      " ['F' 'F' '.' '.' '.' '.']]\n",
      "[['.' '.' 'i' 'j' 'k' 'l']\n",
      " ['B' 'B' 'i' 'j' 'k' 'l']\n",
      " ['g' 'A' 'A' '.' 'k' '.']\n",
      " ['g' 'h' '.' '.' 'D' 'D']\n",
      " ['g' 'h' '.' '.' 'E' 'E']\n",
      " ['F' 'F' '.' '.' '.' '.']]\n",
      "[['.' '.' 'i' '.' 'k' 'l']\n",
      " ['B' 'B' 'i' 'j' 'k' 'l']\n",
      " ['g' 'A' 'A' 'j' 'k' '.']\n",
      " ['g' 'h' '.' '.' 'D' 'D']\n",
      " ['g' 'h' '.' '.' 'E' 'E']\n",
      " ['F' 'F' '.' '.' '.' '.']]\n",
      "[['.' '.' 'i' '.' 'k' 'l']\n",
      " ['B' 'B' 'i' '.' 'k' 'l']\n",
      " ['g' 'A' 'A' 'j' 'k' '.']\n",
      " ['g' 'h' '.' 'j' 'D' 'D']\n",
      " ['g' 'h' '.' '.' 'E' 'E']\n",
      " ['F' 'F' '.' '.' '.' '.']]\n",
      "[['.' '.' 'i' '.' 'k' 'l']\n",
      " ['B' 'B' 'i' '.' 'k' 'l']\n",
      " ['g' 'A' 'A' '.' 'k' '.']\n",
      " ['g' 'h' '.' 'j' 'D' 'D']\n",
      " ['g' 'h' '.' 'j' 'E' 'E']\n",
      " ['F' 'F' '.' '.' '.' '.']]\n",
      "[['.' '.' 'i' '.' 'k' 'l']\n",
      " ['B' 'B' 'i' '.' 'k' 'l']\n",
      " ['g' 'A' 'A' '.' 'k' '.']\n",
      " ['g' 'h' '.' '.' 'D' 'D']\n",
      " ['g' 'h' '.' 'j' 'E' 'E']\n",
      " ['F' 'F' '.' 'j' '.' '.']]\n",
      "[['.' '.' 'i' '.' 'k' 'l']\n",
      " ['B' 'B' 'i' '.' 'k' 'l']\n",
      " ['g' 'A' 'A' '.' 'k' '.']\n",
      " ['g' 'h' '.' 'D' 'D' '.']\n",
      " ['g' 'h' '.' 'j' 'E' 'E']\n",
      " ['F' 'F' '.' 'j' '.' '.']]\n",
      "[['.' '.' 'i' '.' 'k' 'l']\n",
      " ['B' 'B' 'i' '.' 'k' 'l']\n",
      " ['g' 'A' 'A' '.' 'k' '.']\n",
      " ['g' 'h' 'D' 'D' '.' '.']\n",
      " ['g' 'h' '.' 'j' 'E' 'E']\n",
      " ['F' 'F' '.' 'j' '.' '.']]\n",
      "[['.' '.' 'i' '.' 'k' '.']\n",
      " ['B' 'B' 'i' '.' 'k' 'l']\n",
      " ['g' 'A' 'A' '.' 'k' 'l']\n",
      " ['g' 'h' 'D' 'D' '.' '.']\n",
      " ['g' 'h' '.' 'j' 'E' 'E']\n",
      " ['F' 'F' '.' 'j' '.' '.']]\n",
      "[['.' '.' 'i' '.' 'k' '.']\n",
      " ['B' 'B' 'i' '.' 'k' '.']\n",
      " ['g' 'A' 'A' '.' 'k' 'l']\n",
      " ['g' 'h' 'D' 'D' '.' 'l']\n",
      " ['g' 'h' '.' 'j' 'E' 'E']\n",
      " ['F' 'F' '.' 'j' '.' '.']]\n",
      "[['.' '.' 'i' '.' 'k' '.']\n",
      " ['B' 'B' 'i' '.' 'k' '.']\n",
      " ['g' '.' 'A' 'A' 'k' 'l']\n",
      " ['g' 'h' 'D' 'D' '.' 'l']\n",
      " ['g' 'h' '.' 'j' 'E' 'E']\n",
      " ['F' 'F' '.' 'j' '.' '.']]\n",
      "[['.' '.' 'i' '.' 'k' '.']\n",
      " ['B' 'B' 'i' '.' 'k' '.']\n",
      " ['g' 'h' 'A' 'A' 'k' 'l']\n",
      " ['g' 'h' 'D' 'D' '.' 'l']\n",
      " ['g' '.' '.' 'j' 'E' 'E']\n",
      " ['F' 'F' '.' 'j' '.' '.']]\n",
      "[['.' '.' 'i' '.' '.' '.']\n",
      " ['B' 'B' 'i' '.' 'k' '.']\n",
      " ['g' 'h' 'A' 'A' 'k' 'l']\n",
      " ['g' 'h' 'D' 'D' 'k' 'l']\n",
      " ['g' '.' '.' 'j' 'E' 'E']\n",
      " ['F' 'F' '.' 'j' '.' '.']]\n",
      "22\n"
     ]
    }
   ],
   "source": [
    "random = UCS(matrix2)\n",
    "solution, moves = random.doUCSSearch()\n",
    "\n",
    "for i in solution:\n",
    "    print(i.value)\n",
    "print(moves)"
   ]
  }
 ],
 "metadata": {
  "kernelspec": {
   "display_name": "Python 3.10.7 64-bit",
   "language": "python",
   "name": "python3"
  },
  "language_info": {
   "codemirror_mode": {
    "name": "ipython",
    "version": 3
   },
   "file_extension": ".py",
   "mimetype": "text/x-python",
   "name": "python",
   "nbconvert_exporter": "python",
   "pygments_lexer": "ipython3",
   "version": "3.10.7"
  },
  "orig_nbformat": 4,
  "vscode": {
   "interpreter": {
    "hash": "bb7958bde1d9b77eeab6e9977219b271fe7edf2f49f579cebc5c8d18d222e5fa"
   }
  }
 },
 "nbformat": 4,
 "nbformat_minor": 2
}
